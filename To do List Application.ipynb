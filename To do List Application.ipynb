{
 "cells": [
  {
   "cell_type": "code",
   "execution_count": 421,
   "id": "1137d85b-7413-4526-ae3b-ea1a2266cb27",
   "metadata": {},
   "outputs": [],
   "source": [
    "import tkinter as tk            # importing the tkinter module as tk  \n",
    "from tkinter import ttk         # importing the ttk module from the tkinter library  \n",
    "from tkinter import messagebox  # importing the messagebox module from the tkinter library  \n",
    "import sqlite3 as sql  "
   ]
  },
  {
   "cell_type": "code",
   "execution_count": 422,
   "id": "e2046535-84e7-4df9-90ac-747c26b5f70c",
   "metadata": {},
   "outputs": [],
   "source": [
    "# defining an empty list  \n",
    "tasks = []  "
   ]
  },
  {
   "cell_type": "code",
   "execution_count": 423,
   "id": "cb2616b7-01a4-4d62-9207-4d2ce5fc4269",
   "metadata": {},
   "outputs": [],
   "source": [
    "def add_task():  \n",
    "    # getting the string from the entry field  \n",
    "    task_string = task_field.get()  \n",
    "    # checking whether the string is empty or not  \n",
    "    if len(task_string) == 0:  \n",
    "        # displaying a message box with 'Empty Field' message  \n",
    "        messagebox.showinfo('Error', 'Field is Empty.')  \n",
    "    else:  \n",
    "        # adding the string to the tasks list  \n",
    "        tasks.append(task_string)  \n",
    "        # using the execute() method to execute a SQL statement  \n",
    "        the_cursor.execute('insert into tasks values (?)', (task_string,))  \n",
    "        # calling the function to update the list  \n",
    "        list_update()  \n",
    "        # deleting the entry in the entry field  \n",
    "        task_field.delete(0, 'end')  "
   ]
  },
  {
   "cell_type": "code",
   "execution_count": 424,
   "id": "3e0549e6-d707-4551-9871-0ab9c8387c9e",
   "metadata": {},
   "outputs": [],
   "source": [
    "# defining the function to update the list  \n",
    "def list_update():  \n",
    "    # calling the function to clear the list  \n",
    "    clear_list()  \n",
    "    # iterating through the strings in the list  \n",
    "    for task in tasks:  \n",
    "        # using the insert() method to insert the tasks in the list box  \n",
    "        task_listbox.insert('end', task)  "
   ]
  },
  {
   "cell_type": "code",
   "execution_count": 425,
   "id": "1ba0acdb-c076-4fbd-9a63-0b4cb0a0e2ef",
   "metadata": {},
   "outputs": [],
   "source": [
    "# defining the function to delete a task from the list  \n",
    "def delete_task():  \n",
    "    # using the try-except method  \n",
    "    try:  \n",
    "        # getting the selected entry from the list box  \n",
    "        the_value = task_listbox.get(task_listbox.curselection())  \n",
    "        # checking if the stored value is present in the tasks list  \n",
    "        if the_value in tasks:  \n",
    "            # removing the task from the list  \n",
    "            tasks.remove(the_value)  \n",
    "            # calling the function to update the list  \n",
    "            list_update()  \n",
    "            # using the execute() method to execute a SQL statement  \n",
    "            the_cursor.execute('delete from tasks where title = ?', (the_value,))  \n",
    "    except:  \n",
    "        # displaying the message box with 'No Item Selected' message for an exception  \n",
    "        messagebox.showinfo('Error', 'No Task Selected. Cannot Delete.')"
   ]
  },
  {
   "cell_type": "code",
   "execution_count": 426,
   "id": "ec9e41e6-b043-4589-89f7-9ff65923db3a",
   "metadata": {},
   "outputs": [],
   "source": [
    "# function to delete all tasks from the list  \n",
    "def delete_all_tasks():  \n",
    "    # displaying a message box to ask user for confirmation  \n",
    "    message_box = messagebox.askyesno('Delete All', 'Are you sure?')  \n",
    "    # if the value turns to be True  \n",
    "    if message_box == True:  \n",
    "        # using while loop to iterate through the tasks list until it's empty   \n",
    "        while(len(tasks) != 0):  \n",
    "            # using the pop() method to pop out the elements from the list  \n",
    "            tasks.pop()  \n",
    "        # using the execute() method to execute a SQL statement  \n",
    "        the_cursor.execute('delete from tasks')  \n",
    "        # calling the function to update the list  \n",
    "        list_update()  "
   ]
  },
  {
   "cell_type": "code",
   "execution_count": 427,
   "id": "8f34538e-0997-4ec3-9d09-4971c34c40a3",
   "metadata": {},
   "outputs": [],
   "source": [
    "# function to clear the list  \n",
    "def clear_list():  \n",
    "    # using the delete method to delete all entries from the list box  \n",
    "    task_listbox.delete(0, 'end')  "
   ]
  },
  {
   "cell_type": "code",
   "execution_count": 428,
   "id": "6dd9d6fc-8993-468b-8d3b-e918badb23e7",
   "metadata": {},
   "outputs": [],
   "source": [
    "# function to close the application  \n",
    "def close():  \n",
    "    # printing the elements from the tasks list  \n",
    "    print(tasks)  \n",
    "    # using the destroy() method to close the application  \n",
    "    guiWindow.destroy()  "
   ]
  },
  {
   "cell_type": "code",
   "execution_count": 429,
   "id": "7f68a592-7b6e-4155-a30a-ffc0a203d070",
   "metadata": {},
   "outputs": [],
   "source": [
    "def mark_completed():\n",
    "    marked=listbox_task.curselection()\n",
    "    temp=marked[0]\n",
    "    #store the text of selected item in a string\n",
    "    temp_marked=listbox_task.get(marked)\n",
    "    #update it \n",
    "    temp_marked=temp_marked+\" ✔\"\n",
    "   "
   ]
  },
  {
   "cell_type": "code",
   "execution_count": 430,
   "id": "b650e126-6657-4e63-9dff-b65442f0fa02",
   "metadata": {},
   "outputs": [],
   "source": [
    "# function to retrieve data from the database  \n",
    "def retrieve_database():  \n",
    "    # using the while loop to iterate through the elements in the tasks list  \n",
    "    while(len(tasks) != 0):  \n",
    "        # using the pop() method to pop out the elements from the list  \n",
    "        tasks.pop()  \n",
    "    # iterating through the rows in the database table  \n",
    "    for row in the_cursor.execute('select title from tasks'):  \n",
    "        # using the append() method to insert the titles from the table to the list  \n",
    "        tasks.append(row[0]) "
   ]
  },
  {
   "cell_type": "code",
   "execution_count": 431,
   "id": "b7c229dc-7f2e-4aed-9150-6d235a643303",
   "metadata": {},
   "outputs": [],
   "source": [
    "# main function  \n",
    "if __name__ == \"__main__\":  \n",
    "    # creating an object of the Tk() class  \n",
    "    guiWindow = tk.Tk()  \n",
    "    # setting the title of the window  \n",
    "    guiWindow.title(\"To-Do List Manager - Shreya\")  \n",
    "    # setting the geometry of the window  \n",
    "    guiWindow.geometry(\"500x500+750+250\")  \n",
    "    # disabling the resizable option  \n",
    "    guiWindow.resizable(0, 0)  \n",
    "    # setting the background color to #FAEBD7  \n",
    "    guiWindow.configure(bg = \"#FAEBD7\")  "
   ]
  },
  {
   "cell_type": "code",
   "execution_count": 432,
   "id": "a008c6c1-68f8-4ab6-aed7-3e0fa41d7fb3",
   "metadata": {},
   "outputs": [
    {
     "data": {
      "text/plain": [
       "<sqlite3.Cursor at 0x1910ef1eac0>"
      ]
     },
     "execution_count": 432,
     "metadata": {},
     "output_type": "execute_result"
    }
   ],
   "source": [
    "# using the connect() method to connect to the database  \n",
    "the_connection = sql.connect('listOfTasks.db')  \n",
    "# creating an object of the cursor class  \n",
    "the_cursor = the_connection.cursor()  \n",
    "# using the execute() method to execute a SQL statement  \n",
    "the_cursor.execute('create table if not exists tasks (title text)')  "
   ]
  },
  {
   "cell_type": "code",
   "execution_count": 433,
   "id": "b87c92b0-a903-4fdd-8c0d-40ace2bb1a2d",
   "metadata": {},
   "outputs": [],
   "source": [
    "# defining frames using the tk.Frame() widget  \n",
    "header_frame = tk.Frame(guiWindow, bg = \"#FAEBD7\")  \n",
    "functions_frame = tk.Frame(guiWindow, bg = \"#FAEBD7\")  \n",
    "listbox_frame = tk.Frame(guiWindow, bg = \"#FAEBD7\")  \n",
    "  \n",
    "# using the pack() method to place the frames in the application  \n",
    "header_frame.pack(fill = \"both\")  \n",
    "functions_frame.pack(side = \"left\", expand = True, fill = \"both\")  \n",
    "listbox_frame.pack(side = \"right\", expand = True, fill = \"both\")"
   ]
  },
  {
   "cell_type": "code",
   "execution_count": 434,
   "id": "93b1e021-34ef-42a5-91ca-928ce6f20e2c",
   "metadata": {},
   "outputs": [],
   "source": [
    "# defining a label using the ttk.Label() widget  \n",
    "header_label = ttk.Label(  \n",
    "    header_frame,  \n",
    "    text = \"The To-Do List\",  \n",
    "    font = (\"Brush Script MT\", \"30\"),  \n",
    "    background = \"#FAEBD7\",  \n",
    "    foreground = \"#8B4513\"  \n",
    ")  \n",
    "# using the pack() method to place the label in the application  \n",
    "header_label.pack(padx = 20, pady = 20)  \n",
    "  \n",
    "# defining another label using the ttk.Label() widget  \n",
    "task_label = ttk.Label(  \n",
    "    functions_frame,  \n",
    "    text = \"Enter the Task:\",  \n",
    "    font = (\"Consolas\", \"11\", \"bold\"),  \n",
    "    background = \"#FAEBD7\",  \n",
    "    foreground = \"#000000\"  \n",
    ")  \n",
    "# using the place() method to place the label in the application  \n",
    "task_label.place(x = 30, y = 40)  "
   ]
  },
  {
   "cell_type": "code",
   "execution_count": 435,
   "id": "07d00d23-d5c7-48e0-a691-d91c4cf79e87",
   "metadata": {},
   "outputs": [],
   "source": [
    "# defining an entry field using the ttk.Entry() widget  \n",
    "task_field = ttk.Entry(  \n",
    "    functions_frame,  \n",
    "    font = (\"Consolas\", \"12\"),  \n",
    "    width = 18,  \n",
    "    background = \"#FFF8DC\",  \n",
    "    foreground = \"#A52A2A\"  \n",
    ")  \n",
    "# using the place() method to place the entry field in the application  \n",
    "task_field.place(x = 30, y = 80)  "
   ]
  },
  {
   "cell_type": "code",
   "execution_count": 436,
   "id": "0b0e3dff-f8b5-46ca-955b-3a64b3d3bbeb",
   "metadata": {},
   "outputs": [],
   "source": [
    "# adding buttons to the application using the ttk.Button() widget  \n",
    "add_button = ttk.Button(  \n",
    "    functions_frame,  \n",
    "    text = \"Add Task\",  \n",
    "    width = 24,  \n",
    "    command = add_task  \n",
    ")  \n",
    "del_button = ttk.Button(  \n",
    "    functions_frame,  \n",
    "    text = \"Delete Task\",  \n",
    "    width = 24,  \n",
    "    command = delete_task  \n",
    ")  \n",
    "del_all_button = ttk.Button(  \n",
    "    functions_frame,  \n",
    "    text = \"Delete All Tasks\",  \n",
    "    width = 24,  \n",
    "    command = delete_all_tasks  \n",
    ")  \n",
    "exit_button = ttk.Button(  \n",
    "    functions_frame,  \n",
    "    text = \"Exit\",  \n",
    "    width = 24,  \n",
    "    command = close  \n",
    ")\n",
    "mark_button=ttk.Button(\n",
    "    functions_frame,\n",
    "    text=\"Mark as completed \",\n",
    "    width=24,\n",
    "    command=mark_completed)\n",
    " \n",
    " \n",
    "# using the place() method to set the position of the buttons in the application  \n",
    "add_button.place(x = 30, y = 120)  \n",
    "del_button.place(x = 30, y = 160)  \n",
    "del_all_button.place(x = 30, y = 200)  \n",
    "exit_button.place(x = 30, y = 240)  \n",
    "mark_button.place(x=30,y=200)"
   ]
  },
  {
   "cell_type": "code",
   "execution_count": 437,
   "id": "1986ed97-0445-4e1b-8ecb-4f82e3fcbdf0",
   "metadata": {},
   "outputs": [],
   "source": [
    "# defining a list box using the tk.Listbox() widget  \n",
    "task_listbox = tk.Listbox(  \n",
    "    listbox_frame,  \n",
    "    width = 26,  \n",
    "    height = 13,  \n",
    "    selectmode = 'SINGLE',  \n",
    "    background = \"#FFFFFF\",  \n",
    "    foreground = \"#000000\",  \n",
    "    selectbackground = \"#CD853F\",  \n",
    "    selectforeground = \"#FFFFFF\"  \n",
    ")  \n",
    "# using the place() method to place the list box in the application  \n",
    "task_listbox.place(x = 10, y = 20)  "
   ]
  },
  {
   "cell_type": "code",
   "execution_count": 438,
   "id": "b0a49457-641a-4091-a3d1-35b735f15a5d",
   "metadata": {},
   "outputs": [
    {
     "name": "stdout",
     "output_type": "stream",
     "text": [
      "['Project Submission', 'Report Submission', 'Practical File']\n"
     ]
    }
   ],
   "source": [
    "# calling some functions  \n",
    "retrieve_database()  \n",
    "list_update()  # using the mainloop() method to run the application  \n",
    "guiWindow.mainloop()  \n",
    "# establishing the connection with database  \n",
    "the_connection.commit()  \n",
    "the_cursor.close()  "
   ]
  },
  {
   "cell_type": "code",
   "execution_count": null,
   "id": "4dfef021-b0f1-4955-abdb-80f94f152303",
   "metadata": {},
   "outputs": [],
   "source": []
  },
  {
   "cell_type": "code",
   "execution_count": null,
   "id": "333e3713-e138-4d2f-a39f-dccdd477a7a7",
   "metadata": {},
   "outputs": [],
   "source": []
  },
  {
   "cell_type": "code",
   "execution_count": null,
   "id": "14141f20-0607-495e-857b-65c81c607aac",
   "metadata": {},
   "outputs": [],
   "source": []
  }
 ],
 "metadata": {
  "kernelspec": {
   "display_name": "Python 3 (ipykernel)",
   "language": "python",
   "name": "python3"
  },
  "language_info": {
   "codemirror_mode": {
    "name": "ipython",
    "version": 3
   },
   "file_extension": ".py",
   "mimetype": "text/x-python",
   "name": "python",
   "nbconvert_exporter": "python",
   "pygments_lexer": "ipython3",
   "version": "3.11.7"
  }
 },
 "nbformat": 4,
 "nbformat_minor": 5
}
